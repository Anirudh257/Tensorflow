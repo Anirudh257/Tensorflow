{
 "cells": [
  {
   "cell_type": "markdown",
   "metadata": {},
   "source": [
    "# Tensorflow tutorial"
   ]
  },
  {
   "cell_type": "markdown",
   "metadata": {},
   "source": [
    " Change font size of the cells"
   ]
  },
  {
   "cell_type": "code",
   "execution_count": 44,
   "metadata": {},
   "outputs": [
    {
     "data": {
      "text/html": [
       "\n",
       "<style>\n",
       "\n",
       "div.cell { /* Tunes the space between cells */\n",
       "margin-top:1em;\n",
       "margin-bottom:1em;\n",
       "}\n",
       "\n",
       "div.text_cell_render h1 { /* Main titles bigger, centered */\n",
       "font-size: 2.2em;\n",
       "line-height:1.4em;\n",
       "text-align:center;\n",
       "}\n",
       "\n",
       "div.text_cell_render h2 { /*  Parts names nearer from text */\n",
       "margin-bottom: -0.4em;\n",
       "}\n",
       "\n",
       "\n",
       "div.text_cell_render { /* Customize text cells */\n",
       "font-family: 'Times New Roman';\n",
       "font-size:1.5em;\n",
       "line-height:1.4em;\n",
       "padding-left:1.5em;\n",
       "padding-right:3em;\n",
       "}\n",
       "</style>\n"
      ],
      "text/plain": [
       "<IPython.core.display.HTML object>"
      ]
     },
     "execution_count": 44,
     "metadata": {},
     "output_type": "execute_result"
    }
   ],
   "source": [
    "from IPython.core.display import HTML\n",
    "HTML(\"\"\"\n",
    "<style>\n",
    "\n",
    "div.cell { /* Tunes the space between cells */\n",
    "margin-top:1em;\n",
    "margin-bottom:1em;\n",
    "}\n",
    "\n",
    "div.text_cell_render h1 { /* Main titles bigger, centered */\n",
    "font-size: 2.2em;\n",
    "line-height:1.4em;\n",
    "text-align:center;\n",
    "}\n",
    "\n",
    "div.text_cell_render h2 { /*  Parts names nearer from text */\n",
    "margin-bottom: -0.4em;\n",
    "}\n",
    "\n",
    "\n",
    "div.text_cell_render { /* Customize text cells */\n",
    "font-family: 'Times New Roman';\n",
    "font-size:1.5em;\n",
    "line-height:1.4em;\n",
    "padding-left:1.5em;\n",
    "padding-right:3em;\n",
    "}\n",
    "</style>\n",
    "\"\"\")"
   ]
  },
  {
   "cell_type": "markdown",
   "metadata": {},
   "source": [
    "Tensorflow is an open source library for performing computations easily. It uses the **DataFlow** paradigm of programming where discrete computational tasks are divided into separate pipelines. This has several advantages. It helps in the concurrent execution of tasks. It was developed by the [Google Brain Team](https://research.google.com/pubs/BrainTeam.html) for primarily performing ML tasks."
   ]
  },
  {
   "cell_type": "code",
   "execution_count": 31,
   "metadata": {},
   "outputs": [],
   "source": [
    "#Import tensorflow library\n",
    "import tensorflow as tf"
   ]
  },
  {
   "cell_type": "markdown",
   "metadata": {},
   "source": [
    "**Tensor** is the smallest unit of data in TensorFlow. It is similar to an array in OOPs programming.**Rank** is the number of dimensions of the tensor."
   ]
  },
  {
   "cell_type": "code",
   "execution_count": 32,
   "metadata": {
    "scrolled": true
   },
   "outputs": [
    {
     "data": {
      "text/plain": [
       "[[[1.0, 2.0, 3.0]], [[7.0, 8.0, 9.0]]]"
      ]
     },
     "execution_count": 32,
     "metadata": {},
     "output_type": "execute_result"
    }
   ],
   "source": [
    "3 # a rank 0 tensor; a scalar with shape []\n",
    "[1., 2., 3.] # a rank 1 tensor; a vector with shape [3]\n",
    "[[1., 2., 3.], [4., 5., 6.]] # a rank 2 tensor; a matrix with shape [2, 3]\n",
    "[[[1., 2., 3.]], [[7., 8., 9.]]] # a rank 3 tensor with shape [2, 1, 3]"
   ]
  },
  {
   "cell_type": "markdown",
   "metadata": {},
   "source": [
    "There are two types of operations supported by the tensorflow library:\n",
    "\n",
    "1.Building the computational graph.\n",
    "\n",
    "2.Running the computational graph"
   ]
  },
  {
   "cell_type": "markdown",
   "metadata": {},
   "source": [
    "# Building the computational graph"
   ]
  },
  {
   "cell_type": "markdown",
   "metadata": {},
   "source": [
    "A **computational graph** is a graph of nodes. A **nodes** can be a considered as a function which returns the value stored in it on being run. When the graph is run, it performs some computations and produces a tensor as output. This is similar to a ![Binary expression tree](http://www2.hawaii.edu/~tp_200/lectureNotes/algebraTree.gif \"Binary Expression Tree\")Binary Expression Tree. "
   ]
  },
  {
   "cell_type": "code",
   "execution_count": 33,
   "metadata": {},
   "outputs": [
    {
     "name": "stdout",
     "output_type": "stream",
     "text": [
      "Tensor(\"Const_4:0\", shape=(), dtype=float32) Tensor(\"Const_5:0\", shape=(), dtype=float32)\n"
     ]
    }
   ],
   "source": [
    "node1 = tf.constant(3.0,dtype=tf.float32)\n",
    "node2 = tf.constant(4.0)\n",
    "print(node1,node2)"
   ]
  },
  {
   "cell_type": "markdown",
   "metadata": {},
   "source": [
    "**Session** is a function which performs the computation of the nodes and returns the result. "
   ]
  },
  {
   "cell_type": "code",
   "execution_count": 34,
   "metadata": {},
   "outputs": [
    {
     "name": "stdout",
     "output_type": "stream",
     "text": [
      "[3.0, 4.0]\n"
     ]
    }
   ],
   "source": [
    "sess = tf.Session()\n",
    "print(sess.run([node1,node2]))"
   ]
  },
  {
   "cell_type": "markdown",
   "metadata": {},
   "source": [
    "Complex operations"
   ]
  },
  {
   "cell_type": "code",
   "execution_count": 35,
   "metadata": {},
   "outputs": [],
   "source": [
    "from __future__ import print_function\n",
    "node3 = tf.add(node1,node2)"
   ]
  },
  {
   "cell_type": "markdown",
   "metadata": {},
   "source": [
    "This creates a computational graph of this shape. ![Computational graph](https://www.tensorflow.org/images/getting_started_add.png) This task of visualizing the graph is performed by a utility known as **Tensorboard** provided by tensorflow."
   ]
  },
  {
   "cell_type": "markdown",
   "metadata": {},
   "source": [
    "We can also use **placeholders** to act as temporary variables to store data. It is imilar to defining a variable and not declaring it. eg. int i"
   ]
  },
  {
   "cell_type": "code",
   "execution_count": 36,
   "metadata": {},
   "outputs": [],
   "source": [
    "a = tf.placeholder(tf.float32)\n",
    "b = tf.placeholder(tf.float32)\n",
    "adder = a + b"
   ]
  },
  {
   "cell_type": "code",
   "execution_count": 37,
   "metadata": {},
   "outputs": [
    {
     "name": "stdout",
     "output_type": "stream",
     "text": [
      "7.5\n",
      "[ 3.4000001  -2.5         4.80000019]\n"
     ]
    }
   ],
   "source": [
    "print(sess.run(adder,{a: 3,b:4.5}))\n",
    "print(sess.run(adder,{a:[1,2,4.5],b:[2.4,-4.5,0.3]}))"
   ]
  },
  {
   "cell_type": "markdown",
   "metadata": {},
   "source": [
    "To use values that can change during the program execution, we use **Variables**. They are initialised with a value as soon as we run **tf.Variable**"
   ]
  },
  {
   "cell_type": "code",
   "execution_count": 38,
   "metadata": {},
   "outputs": [],
   "source": [
    "W = tf.Variable([.3],dtype=tf.float32)\n",
    "b = tf.Variable([-.3],dtype=tf.float32)\n",
    "x = tf.placeholder(tf.float32)\n",
    "linear_model = W*x + b"
   ]
  },
  {
   "cell_type": "markdown",
   "metadata": {},
   "source": [
    "To initialize a variable, we use a special command, **tf.global_variables_initializer**"
   ]
  },
  {
   "cell_type": "code",
   "execution_count": 39,
   "metadata": {},
   "outputs": [],
   "source": [
    "init = tf.global_variables_initializer()\n",
    "sess.run(init)"
   ]
  },
  {
   "cell_type": "markdown",
   "metadata": {},
   "source": [
    "To improve the accuracy of the model, we will try to decrease the loss value between the current model and the provided data. "
   ]
  },
  {
   "cell_type": "code",
   "execution_count": 40,
   "metadata": {},
   "outputs": [
    {
     "name": "stdout",
     "output_type": "stream",
     "text": [
      "23.66\n"
     ]
    }
   ],
   "source": [
    "y = tf.placeholder(tf.float32)\n",
    "squared_deltas = tf.square(linear_model - y)\n",
    "loss = tf.reduce_sum(squared_deltas)\n",
    "print(sess.run(loss,{x:[1,2,3,4], y : [0,-1,-2,-3]}))"
   ]
  },
  {
   "cell_type": "code",
   "execution_count": 41,
   "metadata": {},
   "outputs": [
    {
     "name": "stdout",
     "output_type": "stream",
     "text": [
      "0.0\n"
     ]
    }
   ],
   "source": [
    "W_fix = tf.assign(W,[-1])\n",
    "b_fix = tf.assign(b,[1.])\n",
    "sess.run([W_fix,b_fix])\n",
    "print(sess.run(loss, {x:[1,2,3,4], y : [0,-1,-2,-3]}))"
   ]
  },
  {
   "cell_type": "markdown",
   "metadata": {},
   "source": [
    "To improve the accuracy of the model, we have **optimizers**. There are many optimizers offered by tensorflow. The simplest one is the **Gradient descent**."
   ]
  },
  {
   "cell_type": "markdown",
   "metadata": {},
   "source": [
    "**Gradient descent** calculates the partial derivative of a function in all the dimensions. It is calculating the direction in which the slope is increasing the most. The steepness of the function is also a measure of the points of minima of a function. Intuitively, gradient descent is caclulating the dot product of a vector with the value of the unit vector in its direction. So, it will result in a direction which gives the greatest ascent of the vector. We use this to our advantage and change the direction of the function on every iteration by multiplying it with the **learning rate**. \n",
    "\n",
    "The lecture of gradient descent is here: [Gradient Descent](https://www.youtube.com/watch?v=TEB2z7ZlRAw)"
   ]
  },
  {
   "cell_type": "code",
   "execution_count": 42,
   "metadata": {},
   "outputs": [],
   "source": [
    "#Here the learning rate is initialised as 0.01\n",
    "optimizer = tf.train.GradientDescentOptimizer(0.01)\n",
    "train = optimizer.minimize(loss)"
   ]
  },
  {
   "cell_type": "code",
   "execution_count": 43,
   "metadata": {},
   "outputs": [
    {
     "name": "stdout",
     "output_type": "stream",
     "text": [
      "[array([-0.9999969], dtype=float32), array([ 0.99999082], dtype=float32)]\n"
     ]
    }
   ],
   "source": [
    "sess.run(init)\n",
    "for i in range(1000):\n",
    "    sess.run(train, {x:[1,2,3,4], y:[0,-1,-2,-3]})\n",
    "    \n",
    "print(sess.run([W,b]))    "
   ]
  },
  {
   "cell_type": "markdown",
   "metadata": {},
   "source": [
    "Complete code of linear regression model"
   ]
  },
  {
   "cell_type": "code",
   "execution_count": 45,
   "metadata": {},
   "outputs": [
    {
     "name": "stdout",
     "output_type": "stream",
     "text": [
      "W: [-0.9999969] b: [ 0.99999082] loss: 5.69997e-11\n"
     ]
    }
   ],
   "source": [
    "import tensorflow as tf\n",
    "\n",
    "#Model parameters\n",
    "W = tf.Variable([.3],dtype=tf.float32)\n",
    "b = tf.Variable([-.3])\n",
    "\n",
    "#Model input and output\n",
    "x = tf.placeholder(tf.float32)\n",
    "linear_model = W*x + b\n",
    "y = tf.placeholder(tf.float32)\n",
    "\n",
    "#Loss\n",
    "loss = tf.reduce_sum(tf.square(linear_model - y))\n",
    "\n",
    "#Optimizer\n",
    "optimizer = tf.train.GradientDescentOptimizer(0.01)\n",
    "train = optimizer.minimize(loss)\n",
    "\n",
    "#Training data\n",
    "x_train = [1,2,3,4]\n",
    "y_train = [0,-1,-2,-3]\n",
    "\n",
    "#Training loop\n",
    "init = tf.global_variables_initializer()\n",
    "sess = tf.Session()\n",
    "sess.run(init)\n",
    "\n",
    "#Running the iterations\n",
    "for i in range(1000):\n",
    "    sess.run(train, {x: x_train,y: y_train})\n",
    "    \n",
    "#Evaluate training accuracy\n",
    "curr_W, curr_b,curr_loss = sess.run([W,b,loss],{x:x_train,y:y_train})\n",
    "print(\"W: %s b: %s loss: %s\"%(curr_W,curr_b,curr_loss))"
   ]
  },
  {
   "cell_type": "markdown",
   "metadata": {},
   "source": [
    "Running the same model with tf.estimator API"
   ]
  },
  {
   "cell_type": "code",
   "execution_count": 46,
   "metadata": {},
   "outputs": [
    {
     "name": "stdout",
     "output_type": "stream",
     "text": [
      "INFO:tensorflow:Using default config.\n",
      "WARNING:tensorflow:Using temporary folder as model directory: /tmp/tmphuxz7t29\n",
      "INFO:tensorflow:Using config: {'_model_dir': '/tmp/tmphuxz7t29', '_tf_random_seed': None, '_save_summary_steps': 100, '_save_checkpoints_steps': None, '_save_checkpoints_secs': 600, '_session_config': None, '_keep_checkpoint_max': 5, '_keep_checkpoint_every_n_hours': 10000, '_log_step_count_steps': 100, '_service': None, '_cluster_spec': <tensorflow.python.training.server_lib.ClusterSpec object at 0x7f3e2aca4ef0>, '_task_type': 'worker', '_task_id': 0, '_master': '', '_is_chief': True, '_num_ps_replicas': 0, '_num_worker_replicas': 1}\n",
      "INFO:tensorflow:Create CheckpointSaverHook.\n",
      "INFO:tensorflow:Saving checkpoints for 1 into /tmp/tmphuxz7t29/model.ckpt.\n",
      "INFO:tensorflow:loss = 5.0, step = 1\n",
      "INFO:tensorflow:global_step/sec: 851.694\n",
      "INFO:tensorflow:loss = 0.180808, step = 101 (0.122 sec)\n",
      "INFO:tensorflow:global_step/sec: 1059.55\n",
      "INFO:tensorflow:loss = 0.0273586, step = 201 (0.090 sec)\n",
      "INFO:tensorflow:global_step/sec: 1112.8\n",
      "INFO:tensorflow:loss = 0.00503037, step = 301 (0.090 sec)\n",
      "INFO:tensorflow:global_step/sec: 1100.54\n",
      "INFO:tensorflow:loss = 0.000875345, step = 401 (0.091 sec)\n",
      "INFO:tensorflow:global_step/sec: 1032.22\n",
      "INFO:tensorflow:loss = 0.000101444, step = 501 (0.097 sec)\n",
      "INFO:tensorflow:global_step/sec: 1126.85\n",
      "INFO:tensorflow:loss = 2.35014e-05, step = 601 (0.089 sec)\n",
      "INFO:tensorflow:global_step/sec: 1102.66\n",
      "INFO:tensorflow:loss = 8.39258e-06, step = 701 (0.091 sec)\n",
      "INFO:tensorflow:global_step/sec: 1104.12\n",
      "INFO:tensorflow:loss = 6.80162e-07, step = 801 (0.090 sec)\n",
      "INFO:tensorflow:global_step/sec: 1030.29\n",
      "INFO:tensorflow:loss = 1.09173e-07, step = 901 (0.097 sec)\n",
      "INFO:tensorflow:Saving checkpoints for 1000 into /tmp/tmphuxz7t29/model.ckpt.\n",
      "INFO:tensorflow:Loss for final step: 2.0177e-08.\n",
      "INFO:tensorflow:Starting evaluation at 2017-12-27-08:14:43\n",
      "INFO:tensorflow:Restoring parameters from /tmp/tmphuxz7t29/model.ckpt-1000\n",
      "INFO:tensorflow:Finished evaluation at 2017-12-27-08:14:44\n",
      "INFO:tensorflow:Saving dict for global step 1000: average_loss = 4.92719e-09, global_step = 1000, loss = 1.97088e-08\n",
      "INFO:tensorflow:Starting evaluation at 2017-12-27-08:14:44\n",
      "INFO:tensorflow:Restoring parameters from /tmp/tmphuxz7t29/model.ckpt-1000\n",
      "INFO:tensorflow:Finished evaluation at 2017-12-27-08:14:45\n",
      "INFO:tensorflow:Saving dict for global step 1000: average_loss = 0.00253152, global_step = 1000, loss = 0.0101261\n",
      "Train metrics: {'average_loss': 4.9271884e-09, 'loss': 1.9708754e-08, 'global_step': 1000}\n",
      "eval metrics: {'average_loss': 0.002531524, 'loss': 0.010126096, 'global_step': 1000}\n"
     ]
    }
   ],
   "source": [
    "#To load, manipulate data\n",
    "import numpy as np\n",
    "import tensorflow as tf\n",
    "\n",
    "#List of features\n",
    "feature_list = [tf.feature_column.numeric_column(\"x\",shape=[1])]\n",
    "\n",
    "#Estimator performs the tasks of Training(Fitting) and Evaluation(Inference).\n",
    "estimator = tf.estimator.LinearRegressor(feature_columns=feature_list)\n",
    "\n",
    "#Datasets\n",
    "x_train = np.array([1.,2.,3.,4.])\n",
    "y_train = np.array([0.,-1.,-2.,-3.])\n",
    "x_eval = np.array([2.,5.,8.,1.])\n",
    "y_eval = np.array([-1.01, -4.1, -7,0.])\n",
    "\n",
    "input_fn = tf.estimator.inputs.numpy_input_fn({\"x\": x_train}, y_train, batch_size = 4, num_epochs = None, shuffle = True)\n",
    "train_input_fn = tf.estimator.inputs.numpy_input_fn({\"x\": x_train},y_train,batch_size=4,num_epochs=1000,shuffle=False)\n",
    "eval_input_fn = tf.estimator.inputs.numpy_input_fn({\"x\": x_eval},y_eval,batch_size=4,num_epochs=1000,shuffle=False)\n",
    "\n",
    "#Iterate dataset for 1000 times\n",
    "estimator.train(input_fn=input_fn,steps=1000)\n",
    "\n",
    "#Evaluate how model works\n",
    "train_metrics = estimator.evaluate(input_fn=train_input_fn)\n",
    "eval_metrics = estimator.evaluate(input_fn=eval_input_fn)\n",
    "print(\"Train metrics: %r\"% train_metrics)\n",
    "print(\"eval metrics: %r\"% eval_metrics)"
   ]
  },
  {
   "cell_type": "markdown",
   "metadata": {},
   "source": [
    "Repeating the same with an inbuilt custom model"
   ]
  },
  {
   "cell_type": "code",
   "execution_count": 50,
   "metadata": {},
   "outputs": [
    {
     "name": "stdout",
     "output_type": "stream",
     "text": [
      "INFO:tensorflow:Using default config.\n",
      "WARNING:tensorflow:Using temporary folder as model directory: /tmp/tmprvflk2mi\n",
      "INFO:tensorflow:Using config: {'_model_dir': '/tmp/tmprvflk2mi', '_tf_random_seed': None, '_save_summary_steps': 100, '_save_checkpoints_steps': None, '_save_checkpoints_secs': 600, '_session_config': None, '_keep_checkpoint_max': 5, '_keep_checkpoint_every_n_hours': 10000, '_log_step_count_steps': 100, '_service': None, '_cluster_spec': <tensorflow.python.training.server_lib.ClusterSpec object at 0x7f3e29d4ee48>, '_task_type': 'worker', '_task_id': 0, '_master': '', '_is_chief': True, '_num_ps_replicas': 0, '_num_worker_replicas': 1}\n",
      "INFO:tensorflow:Create CheckpointSaverHook.\n",
      "INFO:tensorflow:Saving checkpoints for 1 into /tmp/tmprvflk2mi/model.ckpt.\n",
      "INFO:tensorflow:loss = 11.5986600018, step = 1\n",
      "INFO:tensorflow:global_step/sec: 912.267\n",
      "INFO:tensorflow:loss = 0.157685888187, step = 101 (0.111 sec)\n",
      "INFO:tensorflow:global_step/sec: 889.902\n",
      "INFO:tensorflow:loss = 0.00205907647381, step = 201 (0.112 sec)\n",
      "INFO:tensorflow:global_step/sec: 1099.55\n",
      "INFO:tensorflow:loss = 0.00127496438831, step = 301 (0.094 sec)\n",
      "INFO:tensorflow:global_step/sec: 1145.95\n",
      "INFO:tensorflow:loss = 0.000190089940517, step = 401 (0.085 sec)\n",
      "INFO:tensorflow:global_step/sec: 1164.03\n",
      "INFO:tensorflow:loss = 1.27629252668e-05, step = 501 (0.087 sec)\n",
      "INFO:tensorflow:global_step/sec: 984.23\n",
      "INFO:tensorflow:loss = 3.64292452568e-07, step = 601 (0.101 sec)\n",
      "INFO:tensorflow:global_step/sec: 844.371\n",
      "INFO:tensorflow:loss = 1.20093585895e-07, step = 701 (0.118 sec)\n",
      "INFO:tensorflow:global_step/sec: 906.426\n",
      "INFO:tensorflow:loss = 1.21588620268e-09, step = 801 (0.110 sec)\n",
      "INFO:tensorflow:global_step/sec: 1010.15\n",
      "INFO:tensorflow:loss = 4.6738525913e-10, step = 901 (0.100 sec)\n",
      "INFO:tensorflow:Saving checkpoints for 1000 into /tmp/tmprvflk2mi/model.ckpt.\n",
      "INFO:tensorflow:Loss for final step: 6.1719979844e-11.\n",
      "INFO:tensorflow:Starting evaluation at 2017-12-27-09:12:42\n",
      "INFO:tensorflow:Restoring parameters from /tmp/tmprvflk2mi/model.ckpt-1000\n",
      "INFO:tensorflow:Finished evaluation at 2017-12-27-09:12:43\n",
      "INFO:tensorflow:Saving dict for global step 1000: global_step = 1000, loss = 5.70069e-11\n",
      "INFO:tensorflow:Starting evaluation at 2017-12-27-09:12:44\n",
      "INFO:tensorflow:Restoring parameters from /tmp/tmprvflk2mi/model.ckpt-1000\n",
      "INFO:tensorflow:Finished evaluation at 2017-12-27-09:12:44\n",
      "INFO:tensorflow:Saving dict for global step 1000: global_step = 1000, loss = 0.0101009\n",
      "train metrics: {'loss': 5.7006889e-11, 'global_step': 1000}\n",
      "eval metrics: {'loss': 0.0101009, 'global_step': 1000}\n"
     ]
    }
   ],
   "source": [
    "import numpy as np\n",
    "import tensorflow as tf\n",
    "\n",
    "# Declare list of features, we only have one real-valued feature\n",
    "def model_fn(features, labels, mode):\n",
    "  \n",
    "\n",
    "  # Build a linear model and predict values\n",
    "  W = tf.get_variable(\"W\", [1], dtype=tf.float64)\n",
    "  b = tf.get_variable(\"b\", [1], dtype=tf.float64)\n",
    "  y = W*features['x'] + b\n",
    "  # Loss sub-graph\n",
    "  loss = tf.reduce_sum(tf.square(y - labels))\n",
    "  # Training sub-graph\n",
    "  global_step = tf.train.get_global_step()\n",
    "  optimizer = tf.train.GradientDescentOptimizer(0.01)\n",
    "  train = tf.group(optimizer.minimize(loss),tf.assign_add(global_step, 1))\n",
    "  # EstimatorSpec connects subgraphs we built to the appropriate functionality.\n",
    "return tf.estimator.EstimatorSpec(mode=mode,predictions=y,loss=loss,train_op=train)\n",
    "\n",
    "estimator = tf.estimator.Estimator(model_fn=model_fn)\n",
    "\n",
    "# define our data sets\n",
    "x_train = np.array([1., 2., 3., 4.])\n",
    "y_train = np.array([0., -1., -2., -3.])\n",
    "x_eval = np.array([2., 5., 8., 1.])\n",
    "y_eval = np.array([-1.01, -4.1, -7., 0.])\n",
    "input_fn = tf.estimator.inputs.numpy_input_fn(\n",
    "    {\"x\": x_train}, y_train, batch_size=4, num_epochs=None, shuffle=True)\n",
    "train_input_fn = tf.estimator.inputs.numpy_input_fn(\n",
    "    {\"x\": x_train}, y_train, batch_size=4, num_epochs=1000, shuffle=False)\n",
    "eval_input_fn = tf.estimator.inputs.numpy_input_fn(\n",
    "    {\"x\": x_eval}, y_eval, batch_size=4, num_epochs=1, shuffle=False)\n",
    "\n",
    "# train\n",
    "estimator.train(input_fn=input_fn, steps=1000)\n",
    "\n",
    "# Here we evaluate how well our model did.\n",
    "train_metrics = estimator.evaluate(input_fn=train_input_fn)\n",
    "eval_metrics = estimator.evaluate(input_fn=eval_input_fn)\n",
    "print(\"train metrics: %r\"% train_metrics)\n",
    "print(\"eval metrics: %r\"% eval_metrics)\n"
   ]
  },
  {
   "cell_type": "markdown",
   "metadata": {},
   "source": [
    "Reference: https://www.tensorflow.org/versions/master/get_started/get_started"
   ]
  }
 ],
 "metadata": {
  "kernelspec": {
   "display_name": "Python 3",
   "language": "python",
   "name": "python3"
  },
  "language_info": {
   "codemirror_mode": {
    "name": "ipython",
    "version": 3
   },
   "file_extension": ".py",
   "mimetype": "text/x-python",
   "name": "python",
   "nbconvert_exporter": "python",
   "pygments_lexer": "ipython3",
   "version": "3.6.4"
  }
 },
 "nbformat": 4,
 "nbformat_minor": 1
}
